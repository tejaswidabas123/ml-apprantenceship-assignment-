{
 "cells": [
  {
   "cell_type": "markdown",
   "metadata": {},
   "source": [
    "\n",
    "---\n",
    "\n",
    "# Task 1: Sentence Transformer Implementation for Netflix App Reviews\n",
    "\n",
    "In this model, we aim to generate meaningful embeddings from Netflix app reviews. The process begins with essential data preprocessing steps and progresses through the use of a transformer model. Below are the detailed steps and rationales:\n",
    "\n",
    "## Data Preprocessing\n",
    "Before processing the reviews through our model, we first ensure the data is clean and well-structured:\n",
    "- **Cleaning Null or NA Elements:** We remove any null or NA values from the dataset to prevent any issues during processing. This step is crucial as missing values can lead to errors in data handling and model training, and may adversely affect the model's performance.\n",
    "- **Enforcing Data Types on Columns:** Specifying explicit data types for each column improves both the efficiency and accuracy of operations performed on the data. It ensures that operations such as sorting, querying, and arithmetic computations are performed consistently and correctly.\n",
    "\n",
    "## Tokenization\n",
    "For tokenization, we utilize a **Byte Pair Encoding (BPE) Tokenizer**:\n",
    "- **Choice of BPE Tokenizer:** The BPE tokenizer is chosen for its efficiency in managing vocabulary size and its ability to handle out-of-vocabulary words gracefully. It works by iteratively merging the most frequent pairs of bytes (or characters) in a sequence, which is particularly effective for the diverse linguistic content found in app reviews. This method helps in reducing the sparsity of the dataset and ensures that the model can interpret and process a wide variety of textual inputs without a massive, unwieldy vocabulary.\n",
    "\n",
    "## Transformer Model\n",
    "Once the data is tokenized, it is fed into a transformer model to generate embeddings:\n",
    "- **Transformer Blocks:** The core of our transformer model consists of several layers built out of transformer blocks. Each block contains a multi-head attention mechanism paired with a position-wise feedforward network.\n",
    "  - **Positional Encoding:** Unlike recurrent neural networks, transformers do not inherently process data in sequence. Positional encodings are therefore used to inject some information about the order of the tokens in the sequence. This is vital for our task as the order of words in reviews can change the sentiment and meaning dramatically.\n",
    "  - **Multi-Head Attention:** This mechanism allows the model to jointly attend to information from different representation subspaces at different positions. With this, the model can capture a richer context and understand nuanced relationships between words in reviews, which is crucial for generating high-quality embeddings.\n",
    "\n",
    "## Rationale for Architecture Choice\n",
    "The choice of a transformer model equipped with positional encodings and multi-head attention is driven by the need to understand the contextual relationships between words in textual data effectively. Transformers provide significant advantages in terms of training speed and effectiveness, especially on large datasets like Netflix reviews, due to their parallelizable architecture and the ability to capture long-range dependencies between words.\n",
    "\n",
    "This architecture ensures that the embeddings generated are contextually enriched, making them suitable for further tasks such as sentiment analysis, recommendation systems, or trend analysis based on user reviews.\n",
    "\n",
    "---\n"
   ]
  },
  {
   "cell_type": "markdown",
   "metadata": {},
   "source": [
    "# Data Loading"
   ]
  },
  {
   "cell_type": "code",
   "execution_count": 22,
   "metadata": {},
   "outputs": [],
   "source": [
    "import pandas as pd\n",
    "\n",
    "df = pd.read_csv('./archive/netflix_reviews.csv')\n",
    "\n",
    "# as we only want to display the generation of embeddings, we will only use the first 1000 rows"
   ]
  },
  {
   "cell_type": "markdown",
   "metadata": {},
   "source": [
    "# Data Cleaning"
   ]
  },
  {
   "cell_type": "code",
   "execution_count": 23,
   "metadata": {},
   "outputs": [],
   "source": [
    "df = df[['content','score','thumbsUpCount','at']]\n",
    "\n",
    "df = df[~df['content'].isnull()]\n",
    "\n",
    "df = df.astype({\n",
    "    'score':'int16',\n",
    "    'thumbsUpCount':'int16'\n",
    "})\n",
    "\n",
    "df['at'] = pd.to_datetime(df['at']) \n",
    "df['at'] = df['at'].dt.strftime('%Y')"
   ]
  },
  {
   "cell_type": "markdown",
   "metadata": {},
   "source": [
    "# Tokenization"
   ]
  },
  {
   "cell_type": "code",
   "execution_count": 24,
   "metadata": {},
   "outputs": [],
   "source": [
    "df['content'].to_csv('content_text.txt', index=False, header=False)"
   ]
  },
  {
   "cell_type": "code",
   "execution_count": 25,
   "metadata": {},
   "outputs": [
    {
     "name": "stdout",
     "output_type": "stream",
     "text": [
      "\n",
      "\n",
      "\n"
     ]
    }
   ],
   "source": [
    "from tokenizers import Tokenizer\n",
    "from tokenizers.models import BPE\n",
    "from tokenizers.trainers import BpeTrainer\n",
    "from tokenizers.pre_tokenizers import Whitespace\n",
    "\n",
    "tokenizer = Tokenizer(BPE())\n",
    "tokenizer.pre_tokenizer = Whitespace()\n",
    "trainer = BpeTrainer(special_tokens=[\"[UNK]\", \"[CLS]\", \"[SEP]\", \"[PAD]\", \"[MASK]\"])\n",
    "tokenizer.train(files=[\"content_text.txt\"], trainer=trainer)"
   ]
  },
  {
   "cell_type": "code",
   "execution_count": 26,
   "metadata": {},
   "outputs": [
    {
     "name": "stderr",
     "output_type": "stream",
     "text": [
      "Processing dataframe: 100%|██████████| 112730/112730 [00:08<00:00, 12979.63it/s]\n"
     ]
    },
    {
     "data": {
      "text/plain": [
       "0                                                                                                                                                                                                                                                                                                                                                                                                                              [56, 12780, 1677, 20724, 6867, 5390, 1522, 70, 2076]\n",
       "1    [46, 7805, 2049, 17, 1530, 1607, 46, 12, 82, 2430, 3906, 1775, 19, 1525, 2521, 2526, 70, 7, 2283, 7, 2705, 1488, 1607, 2019, 2407, 19, 46, 1533, 12, 89, 1601, 1474, 1525, 1872, 46, 12, 82, 3863, 17, 1477, 70, 2216, 12, 88, 2099, 17, 1486, 1645, 1605, 46, 12, 82, 1599, 1815, 1518, 2145, 1486, 70, 4260, 2331, 1678, 1476, 1753, 1476, 2572, 1702, 1480, 3082, 1483, 1515, 1525, 2243, 1483, 2095, 1476, 2283, 2540, 1488, 1716, 1905, 1529, 1863, 1603, 2887, 1529, 19]\n",
       "2                                                                                                                                                                                                                                                                                                                                         [2215, 2171, 1514, 2019, 1547, 1642, 1736, 1925, 1604, 1472, 1476, 1957, 2089, 1654, 4250, 1476, 4585, 1480, 1476, 11140, 2256, 1607, 36]\n",
       "3                                              [1725, 1502, 1480, 1692, 1584, 3381, 1514, 1476, 4458, 1551, 1488, 3052, 1603, 1546, 1488, 1476, 2070, 1560, 5322, 1482, 12, 88, 1666, 19, 1834, 1476, 1706, 1480, 1547, 1919, 1595, 1919, 1472, 1706, 1480, 1775, 1786, 19, 46, 1599, 1663, 1483, 3497, 1473, 1702, 1488, 1482, 4187, 1805, 1522, 1482, 1645, 1987, 46, 1546, 2073, 5314, 19, 2248, 1855, 1482, 1520, 1560, 5050, 1514, 1805, 19, 1574, 2303, 2478, 1477, 1931, 19]\n",
       "4                                                                                                                                                                                                                                                                                                                                                       [1984, 1560, 1596, 4417, 1483, 1632, 10029, 2392, 1514, 2532, 1605, 1525, 1642, 4654, 70, 2694, 3064, 1562, 1886, 1568, 19]\n",
       "Name: tokenized_content, dtype: object"
      ]
     },
     "execution_count": 26,
     "metadata": {},
     "output_type": "execute_result"
    }
   ],
   "source": [
    "from tqdm import tqdm\n",
    "\n",
    "def tokenize(text):\n",
    "    return tokenizer.encode(text).ids\n",
    "\n",
    "tqdm.pandas(desc=\"Processing dataframe: \")\n",
    "df['tokenized_content'] = df['content'].progress_apply(lambda x: tokenize(str(x)))\n",
    "df['tokenized_content'].head()"
   ]
  },
  {
   "cell_type": "code",
   "execution_count": 27,
   "metadata": {},
   "outputs": [],
   "source": [
    "df = df[['content','tokenized_content','score','thumbsUpCount','at']]"
   ]
  },
  {
   "cell_type": "markdown",
   "metadata": {},
   "source": [
    "# Multi Head Attention "
   ]
  },
  {
   "cell_type": "code",
   "execution_count": 28,
   "metadata": {},
   "outputs": [],
   "source": [
    "import torch\n",
    "import torch.nn as nn\n",
    "import torch.nn.functional as F\n",
    "\n",
    "class MultiHeadAttention(nn.Module):\n",
    "    def __init__(self, embed_size, heads):\n",
    "        super(MultiHeadAttention, self).__init__()\n",
    "        self.embed_size = embed_size\n",
    "        self.heads = heads\n",
    "        self.head_dim = embed_size // heads\n",
    "\n",
    "        assert self.head_dim * heads == embed_size, \"Embed size needs to be divisible by heads\"\n",
    "\n",
    "        self.values = nn.Linear(self.head_dim, self.head_dim, bias=False)\n",
    "        self.keys = nn.Linear(self.head_dim, self.head_dim, bias=False)\n",
    "        self.queries = nn.Linear(self.head_dim, self.head_dim, bias=False)\n",
    "        self.fc_out = nn.Linear(heads * self.head_dim, embed_size)\n",
    "\n",
    "    def forward(self, values, keys, query, mask):\n",
    "        N = query.shape[0]\n",
    "        value_len, key_len, query_len = values.shape[1], keys.shape[1], query.shape[1]\n",
    "\n",
    "        values = values.reshape(N, value_len, self.heads, self.head_dim)\n",
    "        keys = keys.reshape(N, key_len, self.heads, self.head_dim)\n",
    "        queries = query.reshape(N, query_len, self.heads, self.head_dim)\n",
    "\n",
    "        values = self.values(values)\n",
    "        keys = self.keys(keys)\n",
    "        queries = self.queries(queries)\n",
    "\n",
    "        attention = torch.einsum(\"nqhd,nkhd->nhqk\", [queries, keys])\n",
    "\n",
    "        if mask is not None:\n",
    "            attention = attention.masked_fill(mask == 0, float(\"-1e20\"))\n",
    "\n",
    "        attention = torch.softmax(attention / (self.embed_size ** (1 / 2)), dim=3)\n",
    "\n",
    "        out = torch.einsum(\"nhql,nlhd->nqhd\", [attention, values]).reshape(\n",
    "            N, query_len, self.heads * self.head_dim\n",
    "        )\n",
    "\n",
    "        out = self.fc_out(out)\n",
    "        return out\n"
   ]
  },
  {
   "cell_type": "markdown",
   "metadata": {},
   "source": [
    "# Positional Encoding"
   ]
  },
  {
   "cell_type": "code",
   "execution_count": 29,
   "metadata": {},
   "outputs": [],
   "source": [
    "class PositionalEncoding(nn.Module):\n",
    "    def __init__(self, embed_size, max_len=500):\n",
    "        super(PositionalEncoding, self).__init__()\n",
    "        self.encoding = torch.zeros(max_len, embed_size)\n",
    "        pos = torch.arange(0, max_len).unsqueeze(1).float()\n",
    "        _2i = torch.arange(0, embed_size, step=2).float()\n",
    "\n",
    "        self.encoding[:, 0::2] = torch.sin(pos / (10000 ** (_2i/embed_size)))\n",
    "        self.encoding[:, 1::2] = torch.cos(pos / (10000 ** (_2i/embed_size)))\n",
    "        self.encoding = self.encoding.unsqueeze(0)\n",
    "\n",
    "        self.device = torch.device('cuda' if torch.cuda.is_available() else 'cpu')\n",
    "        self.encoding = self.encoding.to(self.device)  \n",
    "\n",
    "    def forward(self, x):\n",
    "        return self.encoding[:, :x.size(1), :].to(x.device)"
   ]
  },
  {
   "cell_type": "markdown",
   "metadata": {},
   "source": [
    "# Transformer block"
   ]
  },
  {
   "cell_type": "code",
   "execution_count": 30,
   "metadata": {},
   "outputs": [],
   "source": [
    "class TransformerBlock(nn.Module):\n",
    "    def __init__(self, embed_size, heads, dropout, forward_expansion):\n",
    "        super(TransformerBlock, self).__init__()\n",
    "        self.attention = MultiHeadAttention(embed_size, heads)\n",
    "        self.norm1 = nn.LayerNorm(embed_size)\n",
    "        self.norm2 = nn.LayerNorm(embed_size)\n",
    "\n",
    "        self.feed_forward = nn.Sequential(\n",
    "            nn.Linear(embed_size, forward_expansion * embed_size),\n",
    "            nn.ReLU(),\n",
    "            nn.Linear(forward_expansion * embed_size, embed_size)\n",
    "        )\n",
    "\n",
    "        self.dropout = nn.Dropout(dropout)\n",
    "\n",
    "    def forward(self, value, key, query, mask):\n",
    "        attention = self.attention(value, key, query, mask)\n",
    "\n",
    "        x = self.dropout(self.norm1(attention + query))\n",
    "        forward = self.feed_forward(x)\n",
    "        out = self.dropout(self.norm2(forward + x))\n",
    "        return out"
   ]
  },
  {
   "cell_type": "markdown",
   "metadata": {},
   "source": [
    "# Transformer"
   ]
  },
  {
   "cell_type": "code",
   "execution_count": 31,
   "metadata": {},
   "outputs": [],
   "source": [
    "class TransformerForEmbeddings(nn.Module):\n",
    "    def __init__(self, src_vocab_size, embed_size, num_layers, heads, forward_expansion, dropout, max_length):\n",
    "        super(TransformerForEmbeddings, self).__init__()\n",
    "        self.embed_size = embed_size\n",
    "        self.word_embedding = nn.Embedding(src_vocab_size, embed_size)\n",
    "        self.positional_encoding = PositionalEncoding(embed_size, max_length)\n",
    "\n",
    "        self.layers = nn.ModuleList([\n",
    "            TransformerBlock(embed_size, heads, dropout, forward_expansion) for _ in range(num_layers)\n",
    "        ])\n",
    "\n",
    "        self.dropout = nn.Dropout(dropout)\n",
    "\n",
    "    def forward(self, x):\n",
    "        out = self.dropout(self.word_embedding(x) + self.positional_encoding(x))\n",
    "        for layer in self.layers:\n",
    "            out = layer(out, out, out, None)\n",
    "\n",
    "        sentence_embedding = out.mean(dim=1)  # Mean pooling\n",
    "        return sentence_embedding"
   ]
  },
  {
   "cell_type": "code",
   "execution_count": 32,
   "metadata": {},
   "outputs": [],
   "source": [
    "max_length = 128\n",
    "batch_size = 32\n",
    "device = torch.device('cuda' if torch.cuda.is_available() else 'cpu')"
   ]
  },
  {
   "cell_type": "code",
   "execution_count": 14,
   "metadata": {},
   "outputs": [
    {
     "name": "stderr",
     "output_type": "stream",
     "text": [
      "Processing dataframe: 100%|██████████| 112730/112730 [00:00<00:00, 170408.11it/s]\n"
     ]
    }
   ],
   "source": [
    "def pad_sequences(vector, pad_idx, max_len):\n",
    "    padded = vector + [pad_idx] * (max_len - len(vector))\n",
    "    return padded[:max_len]\n",
    "\n",
    "pad_idx = tokenizer.token_to_id(\"[PAD]\")\n",
    "df['padded_tokens'] = df['tokenized_content'].progress_apply(lambda x: pad_sequences(x, pad_idx, max_length))\n",
    "padded_tokens_tensor = torch.tensor(list(df['padded_tokens']))"
   ]
  },
  {
   "cell_type": "code",
   "execution_count": 15,
   "metadata": {},
   "outputs": [],
   "source": [
    "from torch.utils.data import TensorDataset, DataLoader\n",
    "\n",
    "dataset = TensorDataset(padded_tokens_tensor)\n",
    "loader = DataLoader(dataset, batch_size=32, shuffle=False)"
   ]
  },
  {
   "cell_type": "code",
   "execution_count": 18,
   "metadata": {},
   "outputs": [
    {
     "data": {
      "text/plain": [
       "TransformerForEmbeddings(\n",
       "  (word_embedding): Embedding(30000, 128)\n",
       "  (positional_encoding): PositionalEncoding()\n",
       "  (layers): ModuleList(\n",
       "    (0-3): 4 x TransformerBlock(\n",
       "      (attention): MultiHeadAttention(\n",
       "        (values): Linear(in_features=16, out_features=16, bias=False)\n",
       "        (keys): Linear(in_features=16, out_features=16, bias=False)\n",
       "        (queries): Linear(in_features=16, out_features=16, bias=False)\n",
       "        (fc_out): Linear(in_features=128, out_features=128, bias=True)\n",
       "      )\n",
       "      (norm1): LayerNorm((128,), eps=1e-05, elementwise_affine=True)\n",
       "      (norm2): LayerNorm((128,), eps=1e-05, elementwise_affine=True)\n",
       "      (feed_forward): Sequential(\n",
       "        (0): Linear(in_features=128, out_features=512, bias=True)\n",
       "        (1): ReLU()\n",
       "        (2): Linear(in_features=512, out_features=128, bias=True)\n",
       "      )\n",
       "      (dropout): Dropout(p=0.1, inplace=False)\n",
       "    )\n",
       "  )\n",
       "  (dropout): Dropout(p=0.1, inplace=False)\n",
       ")"
      ]
     },
     "execution_count": 18,
     "metadata": {},
     "output_type": "execute_result"
    }
   ],
   "source": [
    "vocab_size = tokenizer.get_vocab_size()\n",
    "\n",
    "model = TransformerForEmbeddings(src_vocab_size=vocab_size, \n",
    "                    embed_size=128,\n",
    "                    num_layers=4,\n",
    "                    heads=8,\n",
    "                    forward_expansion=4,\n",
    "                    dropout=0.1,\n",
    "                    max_length=max_length\n",
    "                )\n",
    "\n",
    "model.to(device)"
   ]
  },
  {
   "cell_type": "code",
   "execution_count": 19,
   "metadata": {},
   "outputs": [
    {
     "name": "stderr",
     "output_type": "stream",
     "text": [
      "100%|██████████| 3523/3523 [00:26<00:00, 131.65it/s]\n"
     ]
    }
   ],
   "source": [
    "from tqdm import tqdm\n",
    "\n",
    "def generate_embeddings(model, loader):\n",
    "    model.eval()\n",
    "    embeddings = []\n",
    "    with torch.no_grad():\n",
    "        for batch, in tqdm(loader):\n",
    "            batch = batch.to(device)\n",
    "            embedding = model(batch)\n",
    "            embeddings.append(embedding.cpu())\n",
    "    return torch.cat(embeddings)\n",
    "\n",
    "embeddings = generate_embeddings(model, loader)"
   ]
  },
  {
   "cell_type": "code",
   "execution_count": 20,
   "metadata": {},
   "outputs": [],
   "source": [
    "embeddings = [emb.numpy() for emb in embeddings]\n",
    "df['embeddings'] = embeddings"
   ]
  },
  {
   "cell_type": "code",
   "execution_count": 21,
   "metadata": {},
   "outputs": [
    {
     "data": {
      "text/html": [
       "<div>\n",
       "<style scoped>\n",
       "    .dataframe tbody tr th:only-of-type {\n",
       "        vertical-align: middle;\n",
       "    }\n",
       "\n",
       "    .dataframe tbody tr th {\n",
       "        vertical-align: top;\n",
       "    }\n",
       "\n",
       "    .dataframe thead th {\n",
       "        text-align: right;\n",
       "    }\n",
       "</style>\n",
       "<table border=\"1\" class=\"dataframe\">\n",
       "  <thead>\n",
       "    <tr style=\"text-align: right;\">\n",
       "      <th></th>\n",
       "      <th>content</th>\n",
       "      <th>embeddings</th>\n",
       "    </tr>\n",
       "  </thead>\n",
       "  <tbody>\n",
       "    <tr>\n",
       "      <th>0</th>\n",
       "      <td>Sleeimfh Vertical for a reason</td>\n",
       "      <td>[-0.43363044, -0.7128726, 0.54620314, -1.3661556, -0.39889735, -1.6705528, -0.20286119, 0.26578686, -0.47472507, 2.0741549, -0.7649682, -0.1834096, 1.2377884, 0.22821067, -0.49831533, -0.5055845, 1.995737, -0.27213752, 0.060444057, -0.45454115, -1.3515954, -1.897715, 0.048867196, 0.71289873, -0.115548834, -1.0716354, 0.10862446, -0.8455559, 0.43479007, 0.53768516, -0.06648921, -0.99024534, 0.6547944, -1.3988183, -0.8555416, -0.7537482, -0.85873544, 0.6150476, 0.12027199, 0.25922558, -0.1799185, 0.4973003, 1.0898979, -1.8148155, -0.6585688, 1.0647717, -0.5442203, 0.56042904, -0.23637722, -1.6923996, -0.97342944, 1.5784436, 0.59828496, -1.3810647, 0.51643014, 0.9621568, 1.8787358, -0.031029398, 0.5312636, -0.29048365, 1.1259289, -0.288084, 0.011565836, 0.28617892, -1.4794569, -0.23959848, 0.5265198, 0.40754044, 1.1540188, -0.5650824, -0.4975955, 1.6474087, 0.40962392, -0.1527755, -0.34718382, 1.1029038, 0.5166485, 0.10627104, -0.39128387, 0.5464903, -1.17761, 0.23869619, -0.08403178, 0.36616838, 2.1437845, 0.76191926, -1.619201, -1.652935, -0.21456921, 1.0788082, 0.73933625, 0.9436886, -0.5013261, -0.46736625, -0.4921737, -0.84794503, -0.7269641, 2.6050308, -1.0265015, 0.86751044, ...]</td>\n",
       "    </tr>\n",
       "    <tr>\n",
       "      <th>1</th>\n",
       "      <td>I complained before, but now I'm pretty upset too. Netflix recently added a \"household\" function and now everything sucks. I can't get on Netflix while I'm traveling, at a friend's house, or even when I'm just using my data or a separate wifi from the TV the main account is connected to..Netflix needs to remove the household settings and let people watch where they wanna watch.</td>\n",
       "      <td>[-0.17959267, -0.8949485, -0.14898811, -0.5993668, -0.8894342, -0.8330884, -0.32284403, 0.2127953, -0.17926311, 0.6671449, -0.6142428, -0.75469226, 0.37036842, 0.06300043, -0.24585447, -0.3216456, 1.5351079, -0.3921864, 0.08347522, -0.43364578, -0.67961717, -0.7909801, 0.15953597, 0.37967, 0.0364741, -0.5816035, 0.32782108, -0.73634255, 0.06401537, 0.4280455, -0.36771294, -0.36311674, 0.47679764, -0.737763, -0.44084796, -0.29573423, -0.27391103, 0.7697592, -0.19138426, -0.5408249, -0.60155106, 0.32635626, -0.120862566, -1.4442458, -0.7405307, 0.38173452, -0.25933212, 0.37519902, 0.046910867, -1.2448336, -0.22473352, 0.7945496, 0.12216093, -1.1260087, 0.42541572, 0.61046505, 1.1346929, 0.20013739, 0.35319948, -0.12453724, 0.9830417, 0.4258144, 0.23614818, 0.55038714, -0.53836036, 0.3133121, 0.3678571, 0.59555715, -0.09875287, -0.00898154, -0.25439996, 1.5563487, -0.21222493, -0.21711083, 0.08630464, 0.6279125, 0.13120466, 0.05820298, -0.22833955, 0.6202475, -0.5762929, 0.22843096, -0.29366165, 0.5574071, 1.2177315, 0.53880745, -0.82504344, -0.60355794, 0.09574893, 0.32681704, 0.1029581, 1.1546193, -0.7404457, 0.12944378, -0.49679253, 0.56736416, -0.969064, 1.8798103, -1.2014625, 0.9152247, ...]</td>\n",
       "    </tr>\n",
       "    <tr>\n",
       "      <th>2</th>\n",
       "      <td>On top of everything that has been going down in the last years... Where the heck is the CAST button now?</td>\n",
       "      <td>[-0.3208459, -0.74053746, 0.43258095, -1.238201, -0.49313188, -1.6121296, -0.28042433, 0.33578843, -0.47388846, 1.8385084, -0.7381846, -0.24936715, 1.1358099, 0.247514, -0.5248021, -0.49863183, 1.9083625, -0.28454822, 0.0776687, -0.49844792, -1.2356344, -1.7071269, 0.09634858, 0.66002405, -0.059748694, -1.0454088, 0.13176946, -0.82210964, 0.43314028, 0.49649173, -0.07221107, -0.85642123, 0.6293974, -1.2977237, -0.8882248, -0.6823874, -0.79625463, 0.7115346, 0.06393953, 0.12494548, -0.289447, 0.41302, 0.89283806, -1.7412238, -0.62652284, 1.0133507, -0.4667846, 0.55691314, -0.21736729, -1.7416039, -0.82560796, 1.4284604, 0.505738, -1.3303928, 0.47540954, 0.8901236, 1.7581313, -0.050470002, 0.5261601, -0.25257978, 1.1669621, -0.22133397, 0.029182015, 0.29774982, -1.328937, -0.14082131, 0.52916765, 0.41448, 0.9302147, -0.4626455, -0.5553121, 1.7052883, 0.30353287, -0.2230578, -0.28602123, 1.1145897, 0.5267215, 0.09493868, -0.33365586, 0.5505352, -1.0861197, 0.2584845, -0.11239966, 0.40080136, 2.0258155, 0.73761183, -1.5172896, -1.5035732, -0.25832823, 1.0644889, 0.68373096, 0.9995805, -0.5117425, -0.3482155, -0.4812347, -0.6915178, -0.79310286, 2.5061426, -1.0562518, 0.92281747, ...]</td>\n",
       "    </tr>\n",
       "    <tr>\n",
       "      <th>3</th>\n",
       "      <td>This app is really good cuz of the international movies and dramas they have and the subtitles are accurate it's great. But the problem is that sign out sign in problem is too much. I just want to create an account and it asks money for it even though I have already payed. Just say it you are hungry of money. It gets frustrating at times.</td>\n",
       "      <td>[-0.122198924, -0.73995185, -0.10238953, -0.7478334, -0.78325224, -0.9982804, -0.4027174, 0.30279788, -0.310937, 0.99476755, -0.42254782, -0.77981365, 0.55803347, 0.30981338, -0.4771186, -0.41983593, 1.4827423, -0.3237531, 0.13089448, -0.5352332, -0.84615517, -0.94728774, 0.09536113, 0.46584487, 0.056738872, -0.7471098, 0.41185546, -0.55476385, 0.27159557, 0.41873628, -0.34301823, -0.43615496, 0.4486602, -0.90570533, -0.58784235, -0.25335038, -0.3823494, 0.6567605, -0.012224164, -0.3360269, -0.5047841, 0.14964993, 0.1467182, -1.6956723, -0.46576437, 0.49463665, -0.5057494, 0.4914791, 0.10543664, -1.3513108, -0.37708375, 0.7867294, 0.11466718, -1.0970259, 0.45918134, 0.7247344, 0.98827934, 0.11254078, 0.4416961, -0.023713404, 1.0574136, 0.22380498, 0.31384286, 0.29953367, -0.69515014, 0.18198724, 0.38689613, 0.5579345, 0.079954796, -0.18818109, -0.22447562, 1.5424606, 0.015764419, -0.30983824, 0.18237944, 0.701838, 0.1569168, 0.052847303, -0.23853835, 0.545442, -0.71242404, 0.28197044, -0.29197773, 0.55356145, 1.2846982, 0.527855, -0.9486689, -0.7947319, 0.1402758, 0.5041053, 0.060079467, 1.0880402, -0.60232323, -0.005601555, -0.42016605, 0.25518, -0.9378364, 2.0657945, -1.0486712, 1.0499183, ...]</td>\n",
       "    </tr>\n",
       "    <tr>\n",
       "      <th>4</th>\n",
       "      <td>Why are we expected to pay individually instead of sharing when Netflix has became a worse website with less shows.</td>\n",
       "      <td>[-0.4092798, -0.7084491, 0.44418606, -1.3054, -0.48344725, -1.5880462, -0.22328758, 0.23604047, -0.47162622, 1.8572097, -0.7396711, -0.259579, 1.1200839, 0.2847006, -0.5417943, -0.6114695, 1.8512136, -0.25806534, 0.040380366, -0.47526792, -1.2163296, -1.7572172, 0.078763515, 0.7376828, -0.05217868, -1.1060168, 0.119113505, -0.8731141, 0.37694836, 0.55697435, -0.0924101, -0.91444635, 0.6868645, -1.257829, -0.82833314, -0.6849387, -0.80782527, 0.71008384, 0.053104598, 0.14389633, -0.24738586, 0.42188978, 0.9314916, -1.7904508, -0.62903494, 1.014302, -0.508973, 0.56019235, -0.19120838, -1.6731936, -0.8640143, 1.4580508, 0.5607759, -1.2963089, 0.56315124, 0.87529135, 1.6874293, 0.017951515, 0.5664285, -0.25919664, 1.1363523, -0.19431654, 0.07080674, 0.33293968, -1.3530881, -0.17034212, 0.5262872, 0.45681417, 0.9746362, -0.48762602, -0.4337321, 1.5948207, 0.32727414, -0.25149697, -0.27641913, 1.0232854, 0.52449745, 0.10807301, -0.38676244, 0.5857887, -1.0645461, 0.24737822, -0.13144213, 0.42297682, 2.044931, 0.7274097, -1.4954488, -1.4452013, -0.16549742, 1.0345148, 0.63383937, 0.9908562, -0.48613468, -0.40405983, -0.44512212, -0.72324663, -0.7787924, 2.533559, -1.0327667, 0.9463238, ...]</td>\n",
       "    </tr>\n",
       "    <tr>\n",
       "      <th>5</th>\n",
       "      <td>Good</td>\n",
       "      <td>[-0.48540178, -0.684257, 0.6212306, -1.4285945, -0.34473377, -1.7453941, -0.19516012, 0.26302785, -0.50602686, 2.1636221, -0.791657, -0.11415096, 1.3320849, 0.22308737, -0.50561893, -0.5453813, 1.995461, -0.26363903, 0.05563289, -0.43192923, -1.4229257, -2.0011985, 0.041920967, 0.73860097, -0.14120826, -1.161664, 0.06595098, -0.8748635, 0.4464666, 0.5770556, -0.01135157, -1.0318284, 0.6752023, -1.3792953, -0.9154018, -0.8086543, -0.92738044, 0.6228467, 0.14550036, 0.3293179, -0.14489822, 0.47069615, 1.1652265, -1.8359498, -0.64913094, 1.160641, -0.5755389, 0.61950076, -0.23838997, -1.6962984, -0.9980733, 1.6513289, 0.6362197, -1.3603284, 0.54576135, 0.9772297, 1.9215631, -0.04000978, 0.5516337, -0.31691992, 1.1649923, -0.3617158, -0.0058315583, 0.27271986, -1.5321345, -0.2984003, 0.5578756, 0.42083797, 1.2514045, -0.5652257, -0.5260679, 1.6522382, 0.45164013, -0.18111396, -0.39405447, 1.1158521, 0.56024086, 0.11687426, -0.400377, 0.5320581, -1.1845891, 0.22713234, -0.057641685, 0.34272325, 2.2189434, 0.7787677, -1.6677184, -1.7254119, -0.30453253, 1.1419318, 0.78764546, 0.921806, -0.4543935, -0.5201986, -0.47114372, -0.97850585, -0.70079935, 2.6530685, -0.9922425, 0.8634107, ...]</td>\n",
       "    </tr>\n",
       "    <tr>\n",
       "      <th>6</th>\n",
       "      <td>I can't even open the Netflix app. It always shows that the Device failure occured.horrible by the way</td>\n",
       "      <td>[-0.34441453, -0.79259276, 0.38355726, -1.2442713, -0.4834078, -1.5927732, -0.27743912, 0.23670284, -0.45380276, 1.8232305, -0.7075316, -0.30375582, 1.0926697, 0.2257428, -0.5015516, -0.5390795, 1.9117122, -0.24324873, 0.03718981, -0.41859055, -1.2161, -1.6705985, 0.09699786, 0.63086665, -0.061465867, -1.0253797, 0.09868495, -0.84762096, 0.37930533, 0.52950764, -0.08498706, -0.9237057, 0.65779567, -1.2405393, -0.8494592, -0.6580559, -0.8007695, 0.66012084, 0.033948094, 0.1046109, -0.26386842, 0.43575388, 0.8893602, -1.7687583, -0.67876863, 0.965201, -0.5108067, 0.57915235, -0.16061592, -1.7545371, -0.8270134, 1.4279853, 0.52296966, -1.3096093, 0.5454673, 0.9030458, 1.7120277, 0.03141456, 0.52794313, -0.2993647, 1.1735864, -0.19296266, 0.12826419, 0.28725487, -1.3063658, -0.16518965, 0.5386571, 0.4812428, 0.96230346, -0.421727, -0.45171636, 1.6554539, 0.2733299, -0.22610775, -0.2392301, 1.1050344, 0.4783795, 0.043911263, -0.35436085, 0.574209, -1.1243008, 0.28773078, -0.18370901, 0.44093406, 2.0113652, 0.7497069, -1.4633741, -1.4323657, -0.17187591, 0.9634725, 0.61011386, 0.9990262, -0.4508753, -0.36215556, -0.493699, -0.6214467, -0.77389044, 2.5240035, -1.0190427, 0.9353823, ...]</td>\n",
       "    </tr>\n",
       "    <tr>\n",
       "      <th>7</th>\n",
       "      <td>It's just amazing</td>\n",
       "      <td>[-0.47197968, -0.7004372, 0.5886631, -1.4079044, -0.3838919, -1.6992152, -0.17400779, 0.2617042, -0.5000709, 2.1210525, -0.75662595, -0.15877108, 1.2964625, 0.2455655, -0.5067034, -0.5422754, 1.9676039, -0.2687026, 0.052355833, -0.4451899, -1.4152248, -1.9458721, 0.05041723, 0.71164054, -0.116325244, -1.1577796, 0.05672478, -0.86530393, 0.42733705, 0.5884181, -0.06364131, -1.010012, 0.66546917, -1.371078, -0.90085506, -0.7688084, -0.9080889, 0.6350356, 0.16094689, 0.3074471, -0.17917089, 0.47065592, 1.0840689, -1.8207262, -0.65482473, 1.1098745, -0.5633278, 0.6061239, -0.26054424, -1.7013106, -0.9478018, 1.6018822, 0.6501584, -1.3688012, 0.5118306, 0.9773313, 1.9072975, 0.0026996322, 0.549858, -0.2922031, 1.1628554, -0.319897, 0.008250139, 0.27968472, -1.5072833, -0.29364935, 0.5642577, 0.46993747, 1.1706403, -0.5358581, -0.5006732, 1.6179585, 0.41392815, -0.17331445, -0.3374303, 1.1039788, 0.5531029, 0.1016112, -0.4070505, 0.55546486, -1.1371689, 0.20105353, -0.07886729, 0.3517295, 2.18891, 0.7904427, -1.6558083, -1.658631, -0.2707449, 1.1213161, 0.7337117, 0.96009886, -0.46909332, -0.50331956, -0.4732104, -0.9251542, -0.70788246, 2.6129668, -1.026937, 0.86227626, ...]</td>\n",
       "    </tr>\n",
       "    <tr>\n",
       "      <th>8</th>\n",
       "      <td>Super cool</td>\n",
       "      <td>[-0.46909422, -0.68579364, 0.6103267, -1.4436917, -0.34758392, -1.7304779, -0.17909285, 0.27247703, -0.5131552, 2.1589355, -0.7799422, -0.13676837, 1.3117805, 0.2232849, -0.5261912, -0.563867, 1.9696422, -0.28327858, 0.056770366, -0.4418148, -1.4088436, -1.9802701, 0.044816907, 0.7388638, -0.14742357, -1.1572216, 0.072035745, -0.8550295, 0.41589218, 0.5754429, -0.0077211736, -1.0358475, 0.667801, -1.3796791, -0.9036565, -0.7907937, -0.9220588, 0.64937454, 0.15342662, 0.32039517, -0.15801872, 0.46246248, 1.154192, -1.8424609, -0.65362185, 1.1585016, -0.54938936, 0.59786737, -0.23012424, -1.6849744, -0.99746543, 1.6535596, 0.61155975, -1.3636265, 0.5351844, 0.9708238, 1.922866, -0.0340332, 0.54603696, -0.3092289, 1.1900452, -0.35423315, -0.0070632678, 0.27812058, -1.5309057, -0.29000986, 0.56816554, 0.4462209, 1.2440368, -0.54392785, -0.53263426, 1.6471758, 0.4597449, -0.18344682, -0.3879444, 1.119648, 0.5454616, 0.13096677, -0.39901406, 0.5331279, -1.175142, 0.22519599, -0.06641731, 0.35412687, 2.2186515, 0.7848713, -1.6562513, -1.6990684, -0.2746169, 1.154013, 0.77004635, 0.9331173, -0.46539217, -0.52573514, -0.4856243, -0.98303735, -0.6972555, 2.6418877, -1.0055546, 0.85632575, ...]</td>\n",
       "    </tr>\n",
       "    <tr>\n",
       "      <th>9</th>\n",
       "      <td>Mobile app is now useless. I travel from home to work, and visit family but can't use the MOBILE app (keyword there) anywhere but at home now.</td>\n",
       "      <td>[-0.3067916, -0.6819636, 0.2891482, -1.1600608, -0.5532301, -1.4133298, -0.2844885, 0.20733875, -0.44057593, 1.6661797, -0.6389239, -0.33088756, 0.9655331, 0.21579975, -0.51735014, -0.559406, 1.8920493, -0.31057364, 0.1276932, -0.46875125, -1.1063647, -1.507377, 0.10144529, 0.60139436, -0.0780178, -0.9824798, 0.17079854, -0.80841607, 0.39240646, 0.5656019, -0.15633428, -0.818885, 0.6173259, -1.225632, -0.7675565, -0.621767, -0.7033731, 0.6443001, 0.034576453, 0.017767524, -0.2798975, 0.39084327, 0.7494668, -1.7134378, -0.6332035, 0.89166594, -0.4196946, 0.5694694, -0.16271943, -1.5605543, -0.71057296, 1.3317168, 0.4367644, -1.2313946, 0.51636016, 0.9048215, 1.5910485, 0.006681418, 0.50795025, -0.2642895, 1.1550672, -0.049085796, 0.13588452, 0.30217826, -1.2449763, -0.08659351, 0.55525124, 0.5067535, 0.7843772, -0.34155297, -0.40543237, 1.6338269, 0.23931895, -0.24668247, -0.2574964, 0.9901451, 0.38395688, 0.08825494, -0.3022626, 0.50759363, -1.0044265, 0.20376243, -0.21623085, 0.39762375, 1.877201, 0.70888174, -1.345149, -1.3822781, -0.17346367, 0.9043505, 0.53740585, 1.0478911, -0.52881575, -0.2899927, -0.51904637, -0.42616338, -0.8348962, 2.4352741, -1.0728304, 0.9458513, ...]</td>\n",
       "    </tr>\n",
       "    <tr>\n",
       "      <th>10</th>\n",
       "      <td>Love this app. Best app to watch your favourite shows on.</td>\n",
       "      <td>[-0.4009726, -0.71361315, 0.5136082, -1.3169773, -0.460755, -1.6832442, -0.22835442, 0.2579012, -0.49481222, 1.9623046, -0.7118443, -0.20648894, 1.1885784, 0.254294, -0.5097411, -0.5406984, 1.9144441, -0.2745487, 0.07768658, -0.43557945, -1.3032607, -1.8312427, 0.068778776, 0.71827877, -0.11900699, -1.1020792, 0.090611994, -0.83167803, 0.4168, 0.547883, -0.052441455, -0.9948431, 0.66384083, -1.3023825, -0.87061167, -0.7127755, -0.8255452, 0.6327074, 0.117634624, 0.21448144, -0.1747783, 0.4748513, 1.030196, -1.7956876, -0.63321245, 1.0723636, -0.49666947, 0.5787703, -0.18845135, -1.712981, -0.888772, 1.5579276, 0.54258114, -1.3401988, 0.5208479, 0.912417, 1.7932914, -0.000336139, 0.5447435, -0.29287648, 1.1654541, -0.2565996, 0.069045335, 0.26166576, -1.3947937, -0.22061127, 0.47008324, 0.4461797, 1.0512786, -0.46524447, -0.48018157, 1.5775414, 0.37758374, -0.21397233, -0.2794395, 1.0790305, 0.4781801, 0.09365812, -0.3883589, 0.5214012, -1.1166589, 0.26524007, -0.12426168, 0.34793946, 2.047052, 0.7788975, -1.5239455, -1.5843809, -0.22992176, 1.066389, 0.68936807, 1.0182819, -0.45045793, -0.48326576, -0.4972413, -0.7843229, -0.7519952, 2.5842428, -0.9728279, 0.872822, ...]</td>\n",
       "    </tr>\n",
       "    <tr>\n",
       "      <th>11</th>\n",
       "      <td>Half bad Half good feels good feels bad it is a perfect experience</td>\n",
       "      <td>[-0.42433938, -0.71382415, 0.46622822, -1.314877, -0.40416074, -1.6733075, -0.21175098, 0.24864256, -0.4997464, 1.9598732, -0.75091493, -0.20458081, 1.1865662, 0.16966838, -0.49671286, -0.5147198, 1.8911669, -0.28871, 0.082354635, -0.50062865, -1.3453958, -1.8401732, 0.1337946, 0.7605679, -0.09485045, -1.0871844, 0.14353022, -0.76546645, 0.46623927, 0.5354032, -0.08231327, -0.9561071, 0.6858506, -1.2952216, -0.8644271, -0.7187973, -0.8146999, 0.64699596, 0.14853218, 0.2793905, -0.15625587, 0.43969953, 1.0654607, -1.8339951, -0.60651916, 1.0598555, -0.60737926, 0.544321, -0.19159639, -1.722801, -0.8905256, 1.5072142, 0.5919898, -1.3549902, 0.59924054, 0.9369857, 1.8413252, 0.014074928, 0.48645586, -0.28483945, 1.1296704, -0.25880814, 0.046785492, 0.32003698, -1.452234, -0.20036335, 0.51068234, 0.43064862, 1.0663975, -0.5326597, -0.5073801, 1.6044948, 0.44918588, -0.18321596, -0.33768302, 1.1209856, 0.47811756, 0.12331253, -0.36846012, 0.55571103, -1.1313701, 0.24028412, -0.114800006, 0.38178328, 2.124961, 0.7649218, -1.5598607, -1.6565177, -0.26849353, 1.0627842, 0.74925387, 0.9440661, -0.4620335, -0.39833733, -0.5343472, -0.877711, -0.7406784, 2.585109, -1.0324498, 0.8340996, ...]</td>\n",
       "    </tr>\n",
       "    <tr>\n",
       "      <th>12</th>\n",
       "      <td>amazing</td>\n",
       "      <td>[-0.4816637, -0.68797016, 0.6245158, -1.4292629, -0.34785545, -1.7351294, -0.18452556, 0.27507353, -0.50536704, 2.1661232, -0.7839267, -0.13533145, 1.3181394, 0.22783093, -0.5143845, -0.54702353, 1.9893241, -0.26497656, 0.058528565, -0.448089, -1.4362464, -1.9898322, 0.038590822, 0.7355461, -0.1359816, -1.1578511, 0.06712466, -0.86147285, 0.4427241, 0.58199775, -0.0012694951, -1.0441334, 0.670538, -1.3802191, -0.91712767, -0.79018384, -0.92316926, 0.63238406, 0.15181679, 0.3336957, -0.13783322, 0.48310593, 1.1658094, -1.8352071, -0.64642465, 1.1487727, -0.58333695, 0.6203626, -0.2520111, -1.7063286, -1.0046456, 1.6495234, 0.63715845, -1.3607032, 0.5316949, 0.9813033, 1.9360805, -0.022158192, 0.5478134, -0.31282142, 1.1631389, -0.36216843, -0.0033408136, 0.26542842, -1.5401645, -0.308559, 0.5588508, 0.44063312, 1.2444588, -0.56005704, -0.52527344, 1.6232903, 0.45851788, -0.17253774, -0.38665712, 1.1202223, 0.5636244, 0.12228955, -0.39603758, 0.5364699, -1.1846502, 0.22709793, -0.06624913, 0.3382945, 2.2250965, 0.7780881, -1.6823375, -1.7067449, -0.28508538, 1.151029, 0.7673639, 0.93437886, -0.4560302, -0.53132427, -0.46709812, -0.9926034, -0.69951093, 2.6381333, -1.009767, 0.86214185, ...]</td>\n",
       "    </tr>\n",
       "    <tr>\n",
       "      <th>13</th>\n",
       "      <td>You app not a part of this household, so you get 1 star. Deserve less tbh.</td>\n",
       "      <td>[-0.39304215, -0.71686786, 0.3996837, -1.2617563, -0.4858389, -1.5666857, -0.25359708, 0.27789134, -0.4764551, 1.896631, -0.7518086, -0.26848152, 1.1404045, 0.1831645, -0.50169516, -0.53439295, 1.8615086, -0.30624118, 0.0634382, -0.4814448, -1.2522528, -1.784788, 0.10074008, 0.7142703, -0.07181033, -1.0978839, 0.145607, -0.88077486, 0.44127, 0.48606008, -0.090441614, -0.93540895, 0.6670825, -1.271262, -0.86141443, -0.6726532, -0.8127452, 0.5751648, 0.12389906, 0.20627293, -0.24892321, 0.47411048, 0.9845195, -1.8001994, -0.59058946, 1.0034328, -0.51205957, 0.5541134, -0.15622361, -1.6722151, -0.87466764, 1.4522369, 0.5343957, -1.3263423, 0.57078254, 0.96050584, 1.724525, 0.040218323, 0.5232799, -0.26496837, 1.1191368, -0.23819023, 0.06810542, 0.27978894, -1.3681285, -0.13391179, 0.48332173, 0.41780183, 0.91741514, -0.4925555, -0.446919, 1.6167293, 0.41650063, -0.20274848, -0.28762704, 1.0476725, 0.5118592, 0.11596033, -0.3505752, 0.56370044, -1.0539992, 0.21622203, -0.048706643, 0.39510375, 2.0427814, 0.744995, -1.4813426, -1.5590544, -0.10771225, 1.0254617, 0.62965995, 0.98505, -0.46369684, -0.3889543, -0.45416796, -0.69512844, -0.8010875, 2.5308256, -0.9972723, 0.8786507, ...]</td>\n",
       "    </tr>\n",
       "    <tr>\n",
       "      <th>14</th>\n",
       "      <td>First you force me to accept a price increase, a couple of days later you kick out the rest of my family from our account (sure that's fair). I switch to the cheapest subscription with ads and now you took away the possibility to cast to my Chromecast? YouTube and Prime can show ads on Chromecast, why can't you. Absolute disgrace and not even worth the 5 euro. This is not how you will keep growing your revenue.</td>\n",
       "      <td>[-0.018971514, -0.751882, -0.21728331, -0.6321225, -0.9624909, -1.0011042, -0.4983605, 0.20680454, -0.1474855, 0.67106116, -0.5114807, -0.9199626, 0.33461994, 0.1570498, -0.24127047, -0.32233846, 1.4088099, -0.22440304, 0.14739491, -0.47979617, -0.39945847, -0.73080206, 0.1649656, 0.35246575, 0.12891158, -0.6025547, 0.3151465, -0.6136795, 0.21000747, 0.24733834, -0.4565254, -0.416215, 0.516202, -0.9077723, -0.34857273, -0.33045423, -0.2820692, 0.8278027, -0.22988236, -0.5237262, -0.6136719, 0.32613042, -0.038714208, -1.3666946, -0.60164976, 0.31183535, -0.3414069, 0.45044786, 0.00076520815, -1.23595, -0.31341136, 0.71024513, -0.11960527, -1.2171285, 0.47808915, 0.5775745, 0.90866035, 0.05740992, 0.44320577, -0.1360907, 0.88390696, 0.38569626, 0.11235809, 0.48682025, -0.44987386, 0.19361147, 0.40445864, 0.63787675, -0.13128369, -0.042543717, -0.20200446, 1.6039672, -0.29413393, -0.35953614, 0.10222943, 0.69255555, 0.21980868, 0.022860108, -0.24175182, 0.7501855, -0.6482953, 0.092670456, -0.28612036, 0.69141436, 1.122213, 0.41411853, -0.8454299, -0.4331686, 0.21175046, 0.47101185, 0.08132443, 1.0580094, -0.6007729, 0.14875323, -0.38017642, 0.54656184, -0.877427, 1.7150354, -1.1934911, 0.9867227, ...]</td>\n",
       "    </tr>\n",
       "    <tr>\n",
       "      <th>15</th>\n",
       "      <td>More Hindi upload please</td>\n",
       "      <td>[-0.48128277, -0.6908893, 0.5697683, -1.4224799, -0.3465373, -1.7147988, -0.20192519, 0.25176504, -0.49417484, 2.143498, -0.76465297, -0.14470255, 1.2876143, 0.2317904, -0.5023631, -0.5296067, 1.9569092, -0.2765481, 0.040138938, -0.43727553, -1.3958292, -1.9629467, 0.055430062, 0.7028307, -0.12395486, -1.1290139, 0.059287146, -0.86551625, 0.45214617, 0.5643627, -0.028704517, -1.0426522, 0.68435013, -1.3670162, -0.9055745, -0.7692529, -0.9100393, 0.61997885, 0.15703523, 0.31629908, -0.17721903, 0.48836306, 1.134585, -1.8248017, -0.6438087, 1.1219963, -0.5738478, 0.61939067, -0.23958988, -1.6877981, -0.98681027, 1.6077776, 0.638034, -1.3539633, 0.5652315, 0.9732233, 1.893215, -0.004606019, 0.55082554, -0.33189356, 1.164102, -0.31701994, -0.012206488, 0.2558155, -1.5331179, -0.28599638, 0.55852544, 0.43859935, 1.1925579, -0.530499, -0.51473475, 1.6577988, 0.4435773, -0.20281264, -0.36682707, 1.1037698, 0.54831773, 0.10463978, -0.3937598, 0.54790485, -1.1681241, 0.24212372, -0.08814584, 0.36229673, 2.1930027, 0.7719072, -1.6477613, -1.6785724, -0.25568566, 1.1496587, 0.75988877, 0.93350494, -0.45522738, -0.5095948, -0.49442494, -0.95613676, -0.69035643, 2.644525, -0.9940485, 0.86510396, ...]</td>\n",
       "    </tr>\n",
       "    <tr>\n",
       "      <th>16</th>\n",
       "      <td>I have been try to pay for my subscription over a week and it bringing out we are not unable to complete the action</td>\n",
       "      <td>[-0.3758739, -0.6683692, 0.4711138, -1.2498871, -0.53050226, -1.5241914, -0.2561217, 0.3510131, -0.4971772, 1.8372471, -0.677359, -0.28265774, 1.104832, 0.26169834, -0.49095315, -0.52645993, 1.850656, -0.3090985, 0.059679247, -0.45493215, -1.2390232, -1.7080467, 0.10688723, 0.72100043, -0.07267225, -1.0203483, 0.20523788, -0.81292135, 0.4192843, 0.47973633, -0.083417274, -0.87918794, 0.6147464, -1.3220254, -0.76220953, -0.6492715, -0.7674086, 0.6902578, 0.01935865, 0.1474897, -0.25629064, 0.43006003, 0.9028629, -1.7753863, -0.60938877, 1.0071454, -0.49594516, 0.5406166, -0.19033876, -1.6593217, -0.90203226, 1.4869204, 0.58206284, -1.3151572, 0.52916324, 0.84835285, 1.6736054, -0.042158864, 0.5027274, -0.27473027, 1.1162679, -0.19760674, 0.03567759, 0.28063512, -1.3209066, -0.19637191, 0.48130274, 0.45647478, 0.9896287, -0.42613065, -0.42170447, 1.6303393, 0.2840722, -0.2406809, -0.2808883, 1.0489166, 0.3969813, 0.10824171, -0.39468074, 0.58517253, -1.1268358, 0.23005973, -0.092781976, 0.46074724, 1.9271277, 0.7016568, -1.5112486, -1.4227173, -0.16302434, 1.0223818, 0.59374523, 1.0176684, -0.5113684, -0.36664072, -0.44000447, -0.6664661, -0.75979394, 2.5217738, -1.0646671, 0.88363963, ...]</td>\n",
       "    </tr>\n",
       "    <tr>\n",
       "      <th>17</th>\n",
       "      <td>Horrible doesn't work half the time and signs you out and randomly kicks you out of the house hold nothing positive to say</td>\n",
       "      <td>[-0.36949363, -0.6990469, 0.38493776, -1.2151632, -0.51167595, -1.5253884, -0.27444538, 0.2407988, -0.480165, 1.8383906, -0.6740712, -0.32591173, 1.0920796, 0.1900442, -0.47197035, -0.43341196, 1.9040585, -0.27721655, 0.076546445, -0.47071403, -1.2264922, -1.698981, 0.11359472, 0.6367358, -0.04674329, -0.988751, 0.16983184, -0.8185073, 0.3810454, 0.48709002, -0.1005926, -0.8686632, 0.586415, -1.2495812, -0.7643656, -0.68434024, -0.7724881, 0.63774216, 0.112701096, 0.16721958, -0.29518417, 0.45881933, 0.8573643, -1.7639232, -0.63196325, 0.95373714, -0.5619074, 0.606984, -0.15557534, -1.6993482, -0.8573552, 1.3924379, 0.51608145, -1.3294408, 0.532528, 0.8734937, 1.7338526, -0.011964105, 0.48335817, -0.24785271, 1.128668, -0.16891515, 0.016160054, 0.28567138, -1.2819612, -0.17886847, 0.5604455, 0.49816912, 0.90629625, -0.40558454, -0.4192217, 1.69736, 0.34986213, -0.19592145, -0.30252075, 0.9996085, 0.43142572, 0.07316919, -0.32872915, 0.6059922, -1.1421006, 0.22639567, -0.16283897, 0.4589034, 1.9750935, 0.6548317, -1.4581263, -1.4186535, -0.13914928, 0.99020255, 0.6389109, 0.9762535, -0.49029112, -0.35169256, -0.46286225, -0.64549595, -0.7713071, 2.4949808, -1.1112702, 0.8484882, ...]</td>\n",
       "    </tr>\n",
       "    <tr>\n",
       "      <th>18</th>\n",
       "      <td>No space</td>\n",
       "      <td>[-0.49607027, -0.690554, 0.6185354, -1.442882, -0.34116307, -1.7232248, -0.19098023, 0.26878148, -0.48514175, 2.1447816, -0.7865671, -0.13062587, 1.3308651, 0.247601, -0.5001781, -0.5343214, 1.9870756, -0.2628854, 0.051113136, -0.42974448, -1.4285041, -1.973109, 0.039002616, 0.7245802, -0.14066249, -1.1589358, 0.06745326, -0.8644577, 0.43496746, 0.58233607, -0.02547621, -1.0269933, 0.6539929, -1.3573103, -0.9298213, -0.78707385, -0.91435516, 0.6179774, 0.14359894, 0.32555535, -0.14699376, 0.48305336, 1.1526597, -1.839464, -0.65254176, 1.1368651, -0.5704218, 0.60334057, -0.22315532, -1.6976825, -0.99117744, 1.6353915, 0.63541216, -1.376421, 0.5451223, 0.97630405, 1.9222083, -0.030226476, 0.540478, -0.30726013, 1.1637582, -0.34717262, -0.007700789, 0.28561896, -1.5301754, -0.27513233, 0.54914904, 0.41716817, 1.2375047, -0.55938655, -0.51204354, 1.6577142, 0.4744419, -0.19681184, -0.3670063, 1.1062274, 0.5512801, 0.11487609, -0.42652878, 0.5367073, -1.1614757, 0.23669276, -0.059109498, 0.32553464, 2.216614, 0.785397, -1.6711545, -1.7095609, -0.2776031, 1.1324849, 0.7680737, 0.91525775, -0.4439851, -0.5228352, -0.4934107, -0.9663756, -0.6901447, 2.6560888, -1.0097995, 0.8524692, ...]</td>\n",
       "    </tr>\n",
       "    <tr>\n",
       "      <th>19</th>\n",
       "      <td>Games are great</td>\n",
       "      <td>[-0.47131738, -0.7012577, 0.6056286, -1.4273918, -0.3581931, -1.7133329, -0.1788712, 0.26339066, -0.49546233, 2.1415415, -0.7825334, -0.14791396, 1.2893906, 0.25442803, -0.5084201, -0.5574881, 1.9703653, -0.26497808, 0.04476493, -0.45774776, -1.3988445, -1.961179, 0.03196422, 0.73435885, -0.112862885, -1.1606612, 0.07687284, -0.86535656, 0.43861213, 0.5640232, -0.028610745, -1.0386167, 0.6702222, -1.3933394, -0.917321, -0.75921285, -0.8843001, 0.63493097, 0.14319786, 0.319656, -0.1477395, 0.4642123, 1.1507072, -1.8525182, -0.62318647, 1.1324302, -0.5671258, 0.61673284, -0.23611149, -1.6907961, -0.98711586, 1.6303294, 0.6144314, -1.3546402, 0.52171886, 0.9825121, 1.9100969, -0.02424818, 0.5462827, -0.32208037, 1.1699505, -0.34923002, 0.00355453, 0.280378, -1.5324671, -0.2803442, 0.5524248, 0.4433748, 1.2261553, -0.5534924, -0.5010124, 1.637487, 0.4459259, -0.18886809, -0.3823368, 1.111552, 0.5592958, 0.10926235, -0.39547887, 0.53767294, -1.1819634, 0.23341784, -0.059765674, 0.33503556, 2.1960082, 0.7980825, -1.6478615, -1.689157, -0.28477848, 1.1374447, 0.7472003, 0.93312544, -0.4862287, -0.5002068, -0.46642303, -0.9490001, -0.68877417, 2.6223307, -1.0127604, 0.872705, ...]</td>\n",
       "    </tr>\n",
       "  </tbody>\n",
       "</table>\n",
       "</div>"
      ],
      "text/plain": [
       "                                                                                                                                                                                                                                                                                                                                                                                                                           content  \\\n",
       "0                                                                                                                                                                                                                                                                                                                                                                                                   Sleeimfh Vertical for a reason   \n",
       "1                                     I complained before, but now I'm pretty upset too. Netflix recently added a \"household\" function and now everything sucks. I can't get on Netflix while I'm traveling, at a friend's house, or even when I'm just using my data or a separate wifi from the TV the main account is connected to..Netflix needs to remove the household settings and let people watch where they wanna watch.   \n",
       "2                                                                                                                                                                                                                                                                                                                        On top of everything that has been going down in the last years... Where the heck is the CAST button now?   \n",
       "3                                                                             This app is really good cuz of the international movies and dramas they have and the subtitles are accurate it's great. But the problem is that sign out sign in problem is too much. I just want to create an account and it asks money for it even though I have already payed. Just say it you are hungry of money. It gets frustrating at times.   \n",
       "4                                                                                                                                                                                                                                                                                                              Why are we expected to pay individually instead of sharing when Netflix has became a worse website with less shows.   \n",
       "5                                                                                                                                                                                                                                                                                                                                                                                                                             Good   \n",
       "6                                                                                                                                                                                                                                                                                                                           I can't even open the Netflix app. It always shows that the Device failure occured.horrible by the way   \n",
       "7                                                                                                                                                                                                                                                                                                                                                                                                                It's just amazing   \n",
       "8                                                                                                                                                                                                                                                                                                                                                                                                                       Super cool   \n",
       "9                                                                                                                                                                                                                                                                                   Mobile app is now useless. I travel from home to work, and visit family but can't use the MOBILE app (keyword there) anywhere but at home now.   \n",
       "10                                                                                                                                                                                                                                                                                                                                                                       Love this app. Best app to watch your favourite shows on.   \n",
       "11                                                                                                                                                                                                                                                                                                                                                              Half bad Half good feels good feels bad it is a perfect experience   \n",
       "12                                                                                                                                                                                                                                                                                                                                                                                                                         amazing   \n",
       "13                                                                                                                                                                                                                                                                                                                                                      You app not a part of this household, so you get 1 star. Deserve less tbh.   \n",
       "14  First you force me to accept a price increase, a couple of days later you kick out the rest of my family from our account (sure that's fair). I switch to the cheapest subscription with ads and now you took away the possibility to cast to my Chromecast? YouTube and Prime can show ads on Chromecast, why can't you. Absolute disgrace and not even worth the 5 euro. This is not how you will keep growing your revenue.   \n",
       "15                                                                                                                                                                                                                                                                                                                                                                                                        More Hindi upload please   \n",
       "16                                                                                                                                                                                                                                                                                                             I have been try to pay for my subscription over a week and it bringing out we are not unable to complete the action   \n",
       "17                                                                                                                                                                                                                                                                                                      Horrible doesn't work half the time and signs you out and randomly kicks you out of the house hold nothing positive to say   \n",
       "18                                                                                                                                                                                                                                                                                                                                                                                                                        No space   \n",
       "19                                                                                                                                                                                                                                                                                                                                                                                                                 Games are great   \n",
       "\n",
       "                                                                                                                                                                                                                                                                                                                                                                                                                                                                                                                                                                                                                                                                                                                                                                                                                                                                                                                                                                                                                                                                                                                                                                                                                                                           embeddings  \n",
       "0                  [-0.43363044, -0.7128726, 0.54620314, -1.3661556, -0.39889735, -1.6705528, -0.20286119, 0.26578686, -0.47472507, 2.0741549, -0.7649682, -0.1834096, 1.2377884, 0.22821067, -0.49831533, -0.5055845, 1.995737, -0.27213752, 0.060444057, -0.45454115, -1.3515954, -1.897715, 0.048867196, 0.71289873, -0.115548834, -1.0716354, 0.10862446, -0.8455559, 0.43479007, 0.53768516, -0.06648921, -0.99024534, 0.6547944, -1.3988183, -0.8555416, -0.7537482, -0.85873544, 0.6150476, 0.12027199, 0.25922558, -0.1799185, 0.4973003, 1.0898979, -1.8148155, -0.6585688, 1.0647717, -0.5442203, 0.56042904, -0.23637722, -1.6923996, -0.97342944, 1.5784436, 0.59828496, -1.3810647, 0.51643014, 0.9621568, 1.8787358, -0.031029398, 0.5312636, -0.29048365, 1.1259289, -0.288084, 0.011565836, 0.28617892, -1.4794569, -0.23959848, 0.5265198, 0.40754044, 1.1540188, -0.5650824, -0.4975955, 1.6474087, 0.40962392, -0.1527755, -0.34718382, 1.1029038, 0.5166485, 0.10627104, -0.39128387, 0.5464903, -1.17761, 0.23869619, -0.08403178, 0.36616838, 2.1437845, 0.76191926, -1.619201, -1.652935, -0.21456921, 1.0788082, 0.73933625, 0.9436886, -0.5013261, -0.46736625, -0.4921737, -0.84794503, -0.7269641, 2.6050308, -1.0265015, 0.86751044, ...]  \n",
       "1        [-0.17959267, -0.8949485, -0.14898811, -0.5993668, -0.8894342, -0.8330884, -0.32284403, 0.2127953, -0.17926311, 0.6671449, -0.6142428, -0.75469226, 0.37036842, 0.06300043, -0.24585447, -0.3216456, 1.5351079, -0.3921864, 0.08347522, -0.43364578, -0.67961717, -0.7909801, 0.15953597, 0.37967, 0.0364741, -0.5816035, 0.32782108, -0.73634255, 0.06401537, 0.4280455, -0.36771294, -0.36311674, 0.47679764, -0.737763, -0.44084796, -0.29573423, -0.27391103, 0.7697592, -0.19138426, -0.5408249, -0.60155106, 0.32635626, -0.120862566, -1.4442458, -0.7405307, 0.38173452, -0.25933212, 0.37519902, 0.046910867, -1.2448336, -0.22473352, 0.7945496, 0.12216093, -1.1260087, 0.42541572, 0.61046505, 1.1346929, 0.20013739, 0.35319948, -0.12453724, 0.9830417, 0.4258144, 0.23614818, 0.55038714, -0.53836036, 0.3133121, 0.3678571, 0.59555715, -0.09875287, -0.00898154, -0.25439996, 1.5563487, -0.21222493, -0.21711083, 0.08630464, 0.6279125, 0.13120466, 0.05820298, -0.22833955, 0.6202475, -0.5762929, 0.22843096, -0.29366165, 0.5574071, 1.2177315, 0.53880745, -0.82504344, -0.60355794, 0.09574893, 0.32681704, 0.1029581, 1.1546193, -0.7404457, 0.12944378, -0.49679253, 0.56736416, -0.969064, 1.8798103, -1.2014625, 0.9152247, ...]  \n",
       "2                      [-0.3208459, -0.74053746, 0.43258095, -1.238201, -0.49313188, -1.6121296, -0.28042433, 0.33578843, -0.47388846, 1.8385084, -0.7381846, -0.24936715, 1.1358099, 0.247514, -0.5248021, -0.49863183, 1.9083625, -0.28454822, 0.0776687, -0.49844792, -1.2356344, -1.7071269, 0.09634858, 0.66002405, -0.059748694, -1.0454088, 0.13176946, -0.82210964, 0.43314028, 0.49649173, -0.07221107, -0.85642123, 0.6293974, -1.2977237, -0.8882248, -0.6823874, -0.79625463, 0.7115346, 0.06393953, 0.12494548, -0.289447, 0.41302, 0.89283806, -1.7412238, -0.62652284, 1.0133507, -0.4667846, 0.55691314, -0.21736729, -1.7416039, -0.82560796, 1.4284604, 0.505738, -1.3303928, 0.47540954, 0.8901236, 1.7581313, -0.050470002, 0.5261601, -0.25257978, 1.1669621, -0.22133397, 0.029182015, 0.29774982, -1.328937, -0.14082131, 0.52916765, 0.41448, 0.9302147, -0.4626455, -0.5553121, 1.7052883, 0.30353287, -0.2230578, -0.28602123, 1.1145897, 0.5267215, 0.09493868, -0.33365586, 0.5505352, -1.0861197, 0.2584845, -0.11239966, 0.40080136, 2.0258155, 0.73761183, -1.5172896, -1.5035732, -0.25832823, 1.0644889, 0.68373096, 0.9995805, -0.5117425, -0.3482155, -0.4812347, -0.6915178, -0.79310286, 2.5061426, -1.0562518, 0.92281747, ...]  \n",
       "3     [-0.122198924, -0.73995185, -0.10238953, -0.7478334, -0.78325224, -0.9982804, -0.4027174, 0.30279788, -0.310937, 0.99476755, -0.42254782, -0.77981365, 0.55803347, 0.30981338, -0.4771186, -0.41983593, 1.4827423, -0.3237531, 0.13089448, -0.5352332, -0.84615517, -0.94728774, 0.09536113, 0.46584487, 0.056738872, -0.7471098, 0.41185546, -0.55476385, 0.27159557, 0.41873628, -0.34301823, -0.43615496, 0.4486602, -0.90570533, -0.58784235, -0.25335038, -0.3823494, 0.6567605, -0.012224164, -0.3360269, -0.5047841, 0.14964993, 0.1467182, -1.6956723, -0.46576437, 0.49463665, -0.5057494, 0.4914791, 0.10543664, -1.3513108, -0.37708375, 0.7867294, 0.11466718, -1.0970259, 0.45918134, 0.7247344, 0.98827934, 0.11254078, 0.4416961, -0.023713404, 1.0574136, 0.22380498, 0.31384286, 0.29953367, -0.69515014, 0.18198724, 0.38689613, 0.5579345, 0.079954796, -0.18818109, -0.22447562, 1.5424606, 0.015764419, -0.30983824, 0.18237944, 0.701838, 0.1569168, 0.052847303, -0.23853835, 0.545442, -0.71242404, 0.28197044, -0.29197773, 0.55356145, 1.2846982, 0.527855, -0.9486689, -0.7947319, 0.1402758, 0.5041053, 0.060079467, 1.0880402, -0.60232323, -0.005601555, -0.42016605, 0.25518, -0.9378364, 2.0657945, -1.0486712, 1.0499183, ...]  \n",
       "4                  [-0.4092798, -0.7084491, 0.44418606, -1.3054, -0.48344725, -1.5880462, -0.22328758, 0.23604047, -0.47162622, 1.8572097, -0.7396711, -0.259579, 1.1200839, 0.2847006, -0.5417943, -0.6114695, 1.8512136, -0.25806534, 0.040380366, -0.47526792, -1.2163296, -1.7572172, 0.078763515, 0.7376828, -0.05217868, -1.1060168, 0.119113505, -0.8731141, 0.37694836, 0.55697435, -0.0924101, -0.91444635, 0.6868645, -1.257829, -0.82833314, -0.6849387, -0.80782527, 0.71008384, 0.053104598, 0.14389633, -0.24738586, 0.42188978, 0.9314916, -1.7904508, -0.62903494, 1.014302, -0.508973, 0.56019235, -0.19120838, -1.6731936, -0.8640143, 1.4580508, 0.5607759, -1.2963089, 0.56315124, 0.87529135, 1.6874293, 0.017951515, 0.5664285, -0.25919664, 1.1363523, -0.19431654, 0.07080674, 0.33293968, -1.3530881, -0.17034212, 0.5262872, 0.45681417, 0.9746362, -0.48762602, -0.4337321, 1.5948207, 0.32727414, -0.25149697, -0.27641913, 1.0232854, 0.52449745, 0.10807301, -0.38676244, 0.5857887, -1.0645461, 0.24737822, -0.13144213, 0.42297682, 2.044931, 0.7274097, -1.4954488, -1.4452013, -0.16549742, 1.0345148, 0.63383937, 0.9908562, -0.48613468, -0.40405983, -0.44512212, -0.72324663, -0.7787924, 2.533559, -1.0327667, 0.9463238, ...]  \n",
       "5                      [-0.48540178, -0.684257, 0.6212306, -1.4285945, -0.34473377, -1.7453941, -0.19516012, 0.26302785, -0.50602686, 2.1636221, -0.791657, -0.11415096, 1.3320849, 0.22308737, -0.50561893, -0.5453813, 1.995461, -0.26363903, 0.05563289, -0.43192923, -1.4229257, -2.0011985, 0.041920967, 0.73860097, -0.14120826, -1.161664, 0.06595098, -0.8748635, 0.4464666, 0.5770556, -0.01135157, -1.0318284, 0.6752023, -1.3792953, -0.9154018, -0.8086543, -0.92738044, 0.6228467, 0.14550036, 0.3293179, -0.14489822, 0.47069615, 1.1652265, -1.8359498, -0.64913094, 1.160641, -0.5755389, 0.61950076, -0.23838997, -1.6962984, -0.9980733, 1.6513289, 0.6362197, -1.3603284, 0.54576135, 0.9772297, 1.9215631, -0.04000978, 0.5516337, -0.31691992, 1.1649923, -0.3617158, -0.0058315583, 0.27271986, -1.5321345, -0.2984003, 0.5578756, 0.42083797, 1.2514045, -0.5652257, -0.5260679, 1.6522382, 0.45164013, -0.18111396, -0.39405447, 1.1158521, 0.56024086, 0.11687426, -0.400377, 0.5320581, -1.1845891, 0.22713234, -0.057641685, 0.34272325, 2.2189434, 0.7787677, -1.6677184, -1.7254119, -0.30453253, 1.1419318, 0.78764546, 0.921806, -0.4543935, -0.5201986, -0.47114372, -0.97850585, -0.70079935, 2.6530685, -0.9922425, 0.8634107, ...]  \n",
       "6                      [-0.34441453, -0.79259276, 0.38355726, -1.2442713, -0.4834078, -1.5927732, -0.27743912, 0.23670284, -0.45380276, 1.8232305, -0.7075316, -0.30375582, 1.0926697, 0.2257428, -0.5015516, -0.5390795, 1.9117122, -0.24324873, 0.03718981, -0.41859055, -1.2161, -1.6705985, 0.09699786, 0.63086665, -0.061465867, -1.0253797, 0.09868495, -0.84762096, 0.37930533, 0.52950764, -0.08498706, -0.9237057, 0.65779567, -1.2405393, -0.8494592, -0.6580559, -0.8007695, 0.66012084, 0.033948094, 0.1046109, -0.26386842, 0.43575388, 0.8893602, -1.7687583, -0.67876863, 0.965201, -0.5108067, 0.57915235, -0.16061592, -1.7545371, -0.8270134, 1.4279853, 0.52296966, -1.3096093, 0.5454673, 0.9030458, 1.7120277, 0.03141456, 0.52794313, -0.2993647, 1.1735864, -0.19296266, 0.12826419, 0.28725487, -1.3063658, -0.16518965, 0.5386571, 0.4812428, 0.96230346, -0.421727, -0.45171636, 1.6554539, 0.2733299, -0.22610775, -0.2392301, 1.1050344, 0.4783795, 0.043911263, -0.35436085, 0.574209, -1.1243008, 0.28773078, -0.18370901, 0.44093406, 2.0113652, 0.7497069, -1.4633741, -1.4323657, -0.17187591, 0.9634725, 0.61011386, 0.9990262, -0.4508753, -0.36215556, -0.493699, -0.6214467, -0.77389044, 2.5240035, -1.0190427, 0.9353823, ...]  \n",
       "7                                [-0.47197968, -0.7004372, 0.5886631, -1.4079044, -0.3838919, -1.6992152, -0.17400779, 0.2617042, -0.5000709, 2.1210525, -0.75662595, -0.15877108, 1.2964625, 0.2455655, -0.5067034, -0.5422754, 1.9676039, -0.2687026, 0.052355833, -0.4451899, -1.4152248, -1.9458721, 0.05041723, 0.71164054, -0.116325244, -1.1577796, 0.05672478, -0.86530393, 0.42733705, 0.5884181, -0.06364131, -1.010012, 0.66546917, -1.371078, -0.90085506, -0.7688084, -0.9080889, 0.6350356, 0.16094689, 0.3074471, -0.17917089, 0.47065592, 1.0840689, -1.8207262, -0.65482473, 1.1098745, -0.5633278, 0.6061239, -0.26054424, -1.7013106, -0.9478018, 1.6018822, 0.6501584, -1.3688012, 0.5118306, 0.9773313, 1.9072975, 0.0026996322, 0.549858, -0.2922031, 1.1628554, -0.319897, 0.008250139, 0.27968472, -1.5072833, -0.29364935, 0.5642577, 0.46993747, 1.1706403, -0.5358581, -0.5006732, 1.6179585, 0.41392815, -0.17331445, -0.3374303, 1.1039788, 0.5531029, 0.1016112, -0.4070505, 0.55546486, -1.1371689, 0.20105353, -0.07886729, 0.3517295, 2.18891, 0.7904427, -1.6558083, -1.658631, -0.2707449, 1.1213161, 0.7337117, 0.96009886, -0.46909332, -0.50331956, -0.4732104, -0.9251542, -0.70788246, 2.6129668, -1.026937, 0.86227626, ...]  \n",
       "8                  [-0.46909422, -0.68579364, 0.6103267, -1.4436917, -0.34758392, -1.7304779, -0.17909285, 0.27247703, -0.5131552, 2.1589355, -0.7799422, -0.13676837, 1.3117805, 0.2232849, -0.5261912, -0.563867, 1.9696422, -0.28327858, 0.056770366, -0.4418148, -1.4088436, -1.9802701, 0.044816907, 0.7388638, -0.14742357, -1.1572216, 0.072035745, -0.8550295, 0.41589218, 0.5754429, -0.0077211736, -1.0358475, 0.667801, -1.3796791, -0.9036565, -0.7907937, -0.9220588, 0.64937454, 0.15342662, 0.32039517, -0.15801872, 0.46246248, 1.154192, -1.8424609, -0.65362185, 1.1585016, -0.54938936, 0.59786737, -0.23012424, -1.6849744, -0.99746543, 1.6535596, 0.61155975, -1.3636265, 0.5351844, 0.9708238, 1.922866, -0.0340332, 0.54603696, -0.3092289, 1.1900452, -0.35423315, -0.0070632678, 0.27812058, -1.5309057, -0.29000986, 0.56816554, 0.4462209, 1.2440368, -0.54392785, -0.53263426, 1.6471758, 0.4597449, -0.18344682, -0.3879444, 1.119648, 0.5454616, 0.13096677, -0.39901406, 0.5331279, -1.175142, 0.22519599, -0.06641731, 0.35412687, 2.2186515, 0.7848713, -1.6562513, -1.6990684, -0.2746169, 1.154013, 0.77004635, 0.9331173, -0.46539217, -0.52573514, -0.4856243, -0.98303735, -0.6972555, 2.6418877, -1.0055546, 0.85632575, ...]  \n",
       "9                       [-0.3067916, -0.6819636, 0.2891482, -1.1600608, -0.5532301, -1.4133298, -0.2844885, 0.20733875, -0.44057593, 1.6661797, -0.6389239, -0.33088756, 0.9655331, 0.21579975, -0.51735014, -0.559406, 1.8920493, -0.31057364, 0.1276932, -0.46875125, -1.1063647, -1.507377, 0.10144529, 0.60139436, -0.0780178, -0.9824798, 0.17079854, -0.80841607, 0.39240646, 0.5656019, -0.15633428, -0.818885, 0.6173259, -1.225632, -0.7675565, -0.621767, -0.7033731, 0.6443001, 0.034576453, 0.017767524, -0.2798975, 0.39084327, 0.7494668, -1.7134378, -0.6332035, 0.89166594, -0.4196946, 0.5694694, -0.16271943, -1.5605543, -0.71057296, 1.3317168, 0.4367644, -1.2313946, 0.51636016, 0.9048215, 1.5910485, 0.006681418, 0.50795025, -0.2642895, 1.1550672, -0.049085796, 0.13588452, 0.30217826, -1.2449763, -0.08659351, 0.55525124, 0.5067535, 0.7843772, -0.34155297, -0.40543237, 1.6338269, 0.23931895, -0.24668247, -0.2574964, 0.9901451, 0.38395688, 0.08825494, -0.3022626, 0.50759363, -1.0044265, 0.20376243, -0.21623085, 0.39762375, 1.877201, 0.70888174, -1.345149, -1.3822781, -0.17346367, 0.9043505, 0.53740585, 1.0478911, -0.52881575, -0.2899927, -0.51904637, -0.42616338, -0.8348962, 2.4352741, -1.0728304, 0.9458513, ...]  \n",
       "10                              [-0.4009726, -0.71361315, 0.5136082, -1.3169773, -0.460755, -1.6832442, -0.22835442, 0.2579012, -0.49481222, 1.9623046, -0.7118443, -0.20648894, 1.1885784, 0.254294, -0.5097411, -0.5406984, 1.9144441, -0.2745487, 0.07768658, -0.43557945, -1.3032607, -1.8312427, 0.068778776, 0.71827877, -0.11900699, -1.1020792, 0.090611994, -0.83167803, 0.4168, 0.547883, -0.052441455, -0.9948431, 0.66384083, -1.3023825, -0.87061167, -0.7127755, -0.8255452, 0.6327074, 0.117634624, 0.21448144, -0.1747783, 0.4748513, 1.030196, -1.7956876, -0.63321245, 1.0723636, -0.49666947, 0.5787703, -0.18845135, -1.712981, -0.888772, 1.5579276, 0.54258114, -1.3401988, 0.5208479, 0.912417, 1.7932914, -0.000336139, 0.5447435, -0.29287648, 1.1654541, -0.2565996, 0.069045335, 0.26166576, -1.3947937, -0.22061127, 0.47008324, 0.4461797, 1.0512786, -0.46524447, -0.48018157, 1.5775414, 0.37758374, -0.21397233, -0.2794395, 1.0790305, 0.4781801, 0.09365812, -0.3883589, 0.5214012, -1.1166589, 0.26524007, -0.12426168, 0.34793946, 2.047052, 0.7788975, -1.5239455, -1.5843809, -0.22992176, 1.066389, 0.68936807, 1.0182819, -0.45045793, -0.48326576, -0.4972413, -0.7843229, -0.7519952, 2.5842428, -0.9728279, 0.872822, ...]  \n",
       "11                    [-0.42433938, -0.71382415, 0.46622822, -1.314877, -0.40416074, -1.6733075, -0.21175098, 0.24864256, -0.4997464, 1.9598732, -0.75091493, -0.20458081, 1.1865662, 0.16966838, -0.49671286, -0.5147198, 1.8911669, -0.28871, 0.082354635, -0.50062865, -1.3453958, -1.8401732, 0.1337946, 0.7605679, -0.09485045, -1.0871844, 0.14353022, -0.76546645, 0.46623927, 0.5354032, -0.08231327, -0.9561071, 0.6858506, -1.2952216, -0.8644271, -0.7187973, -0.8146999, 0.64699596, 0.14853218, 0.2793905, -0.15625587, 0.43969953, 1.0654607, -1.8339951, -0.60651916, 1.0598555, -0.60737926, 0.544321, -0.19159639, -1.722801, -0.8905256, 1.5072142, 0.5919898, -1.3549902, 0.59924054, 0.9369857, 1.8413252, 0.014074928, 0.48645586, -0.28483945, 1.1296704, -0.25880814, 0.046785492, 0.32003698, -1.452234, -0.20036335, 0.51068234, 0.43064862, 1.0663975, -0.5326597, -0.5073801, 1.6044948, 0.44918588, -0.18321596, -0.33768302, 1.1209856, 0.47811756, 0.12331253, -0.36846012, 0.55571103, -1.1313701, 0.24028412, -0.114800006, 0.38178328, 2.124961, 0.7649218, -1.5598607, -1.6565177, -0.26849353, 1.0627842, 0.74925387, 0.9440661, -0.4620335, -0.39833733, -0.5343472, -0.877711, -0.7406784, 2.585109, -1.0324498, 0.8340996, ...]  \n",
       "12            [-0.4816637, -0.68797016, 0.6245158, -1.4292629, -0.34785545, -1.7351294, -0.18452556, 0.27507353, -0.50536704, 2.1661232, -0.7839267, -0.13533145, 1.3181394, 0.22783093, -0.5143845, -0.54702353, 1.9893241, -0.26497656, 0.058528565, -0.448089, -1.4362464, -1.9898322, 0.038590822, 0.7355461, -0.1359816, -1.1578511, 0.06712466, -0.86147285, 0.4427241, 0.58199775, -0.0012694951, -1.0441334, 0.670538, -1.3802191, -0.91712767, -0.79018384, -0.92316926, 0.63238406, 0.15181679, 0.3336957, -0.13783322, 0.48310593, 1.1658094, -1.8352071, -0.64642465, 1.1487727, -0.58333695, 0.6203626, -0.2520111, -1.7063286, -1.0046456, 1.6495234, 0.63715845, -1.3607032, 0.5316949, 0.9813033, 1.9360805, -0.022158192, 0.5478134, -0.31282142, 1.1631389, -0.36216843, -0.0033408136, 0.26542842, -1.5401645, -0.308559, 0.5588508, 0.44063312, 1.2444588, -0.56005704, -0.52527344, 1.6232903, 0.45851788, -0.17253774, -0.38665712, 1.1202223, 0.5636244, 0.12228955, -0.39603758, 0.5364699, -1.1846502, 0.22709793, -0.06624913, 0.3382945, 2.2250965, 0.7780881, -1.6823375, -1.7067449, -0.28508538, 1.151029, 0.7673639, 0.93437886, -0.4560302, -0.53132427, -0.46709812, -0.9926034, -0.69951093, 2.6381333, -1.009767, 0.86214185, ...]  \n",
       "13                       [-0.39304215, -0.71686786, 0.3996837, -1.2617563, -0.4858389, -1.5666857, -0.25359708, 0.27789134, -0.4764551, 1.896631, -0.7518086, -0.26848152, 1.1404045, 0.1831645, -0.50169516, -0.53439295, 1.8615086, -0.30624118, 0.0634382, -0.4814448, -1.2522528, -1.784788, 0.10074008, 0.7142703, -0.07181033, -1.0978839, 0.145607, -0.88077486, 0.44127, 0.48606008, -0.090441614, -0.93540895, 0.6670825, -1.271262, -0.86141443, -0.6726532, -0.8127452, 0.5751648, 0.12389906, 0.20627293, -0.24892321, 0.47411048, 0.9845195, -1.8001994, -0.59058946, 1.0034328, -0.51205957, 0.5541134, -0.15622361, -1.6722151, -0.87466764, 1.4522369, 0.5343957, -1.3263423, 0.57078254, 0.96050584, 1.724525, 0.040218323, 0.5232799, -0.26496837, 1.1191368, -0.23819023, 0.06810542, 0.27978894, -1.3681285, -0.13391179, 0.48332173, 0.41780183, 0.91741514, -0.4925555, -0.446919, 1.6167293, 0.41650063, -0.20274848, -0.28762704, 1.0476725, 0.5118592, 0.11596033, -0.3505752, 0.56370044, -1.0539992, 0.21622203, -0.048706643, 0.39510375, 2.0427814, 0.744995, -1.4813426, -1.5590544, -0.10771225, 1.0254617, 0.62965995, 0.98505, -0.46369684, -0.3889543, -0.45416796, -0.69512844, -0.8010875, 2.5308256, -0.9972723, 0.8786507, ...]  \n",
       "14  [-0.018971514, -0.751882, -0.21728331, -0.6321225, -0.9624909, -1.0011042, -0.4983605, 0.20680454, -0.1474855, 0.67106116, -0.5114807, -0.9199626, 0.33461994, 0.1570498, -0.24127047, -0.32233846, 1.4088099, -0.22440304, 0.14739491, -0.47979617, -0.39945847, -0.73080206, 0.1649656, 0.35246575, 0.12891158, -0.6025547, 0.3151465, -0.6136795, 0.21000747, 0.24733834, -0.4565254, -0.416215, 0.516202, -0.9077723, -0.34857273, -0.33045423, -0.2820692, 0.8278027, -0.22988236, -0.5237262, -0.6136719, 0.32613042, -0.038714208, -1.3666946, -0.60164976, 0.31183535, -0.3414069, 0.45044786, 0.00076520815, -1.23595, -0.31341136, 0.71024513, -0.11960527, -1.2171285, 0.47808915, 0.5775745, 0.90866035, 0.05740992, 0.44320577, -0.1360907, 0.88390696, 0.38569626, 0.11235809, 0.48682025, -0.44987386, 0.19361147, 0.40445864, 0.63787675, -0.13128369, -0.042543717, -0.20200446, 1.6039672, -0.29413393, -0.35953614, 0.10222943, 0.69255555, 0.21980868, 0.022860108, -0.24175182, 0.7501855, -0.6482953, 0.092670456, -0.28612036, 0.69141436, 1.122213, 0.41411853, -0.8454299, -0.4331686, 0.21175046, 0.47101185, 0.08132443, 1.0580094, -0.6007729, 0.14875323, -0.38017642, 0.54656184, -0.877427, 1.7150354, -1.1934911, 0.9867227, ...]  \n",
       "15             [-0.48128277, -0.6908893, 0.5697683, -1.4224799, -0.3465373, -1.7147988, -0.20192519, 0.25176504, -0.49417484, 2.143498, -0.76465297, -0.14470255, 1.2876143, 0.2317904, -0.5023631, -0.5296067, 1.9569092, -0.2765481, 0.040138938, -0.43727553, -1.3958292, -1.9629467, 0.055430062, 0.7028307, -0.12395486, -1.1290139, 0.059287146, -0.86551625, 0.45214617, 0.5643627, -0.028704517, -1.0426522, 0.68435013, -1.3670162, -0.9055745, -0.7692529, -0.9100393, 0.61997885, 0.15703523, 0.31629908, -0.17721903, 0.48836306, 1.134585, -1.8248017, -0.6438087, 1.1219963, -0.5738478, 0.61939067, -0.23958988, -1.6877981, -0.98681027, 1.6077776, 0.638034, -1.3539633, 0.5652315, 0.9732233, 1.893215, -0.004606019, 0.55082554, -0.33189356, 1.164102, -0.31701994, -0.012206488, 0.2558155, -1.5331179, -0.28599638, 0.55852544, 0.43859935, 1.1925579, -0.530499, -0.51473475, 1.6577988, 0.4435773, -0.20281264, -0.36682707, 1.1037698, 0.54831773, 0.10463978, -0.3937598, 0.54790485, -1.1681241, 0.24212372, -0.08814584, 0.36229673, 2.1930027, 0.7719072, -1.6477613, -1.6785724, -0.25568566, 1.1496587, 0.75988877, 0.93350494, -0.45522738, -0.5095948, -0.49442494, -0.95613676, -0.69035643, 2.644525, -0.9940485, 0.86510396, ...]  \n",
       "16            [-0.3758739, -0.6683692, 0.4711138, -1.2498871, -0.53050226, -1.5241914, -0.2561217, 0.3510131, -0.4971772, 1.8372471, -0.677359, -0.28265774, 1.104832, 0.26169834, -0.49095315, -0.52645993, 1.850656, -0.3090985, 0.059679247, -0.45493215, -1.2390232, -1.7080467, 0.10688723, 0.72100043, -0.07267225, -1.0203483, 0.20523788, -0.81292135, 0.4192843, 0.47973633, -0.083417274, -0.87918794, 0.6147464, -1.3220254, -0.76220953, -0.6492715, -0.7674086, 0.6902578, 0.01935865, 0.1474897, -0.25629064, 0.43006003, 0.9028629, -1.7753863, -0.60938877, 1.0071454, -0.49594516, 0.5406166, -0.19033876, -1.6593217, -0.90203226, 1.4869204, 0.58206284, -1.3151572, 0.52916324, 0.84835285, 1.6736054, -0.042158864, 0.5027274, -0.27473027, 1.1162679, -0.19760674, 0.03567759, 0.28063512, -1.3209066, -0.19637191, 0.48130274, 0.45647478, 0.9896287, -0.42613065, -0.42170447, 1.6303393, 0.2840722, -0.2406809, -0.2808883, 1.0489166, 0.3969813, 0.10824171, -0.39468074, 0.58517253, -1.1268358, 0.23005973, -0.092781976, 0.46074724, 1.9271277, 0.7016568, -1.5112486, -1.4227173, -0.16302434, 1.0223818, 0.59374523, 1.0176684, -0.5113684, -0.36664072, -0.44000447, -0.6664661, -0.75979394, 2.5217738, -1.0646671, 0.88363963, ...]  \n",
       "17                  [-0.36949363, -0.6990469, 0.38493776, -1.2151632, -0.51167595, -1.5253884, -0.27444538, 0.2407988, -0.480165, 1.8383906, -0.6740712, -0.32591173, 1.0920796, 0.1900442, -0.47197035, -0.43341196, 1.9040585, -0.27721655, 0.076546445, -0.47071403, -1.2264922, -1.698981, 0.11359472, 0.6367358, -0.04674329, -0.988751, 0.16983184, -0.8185073, 0.3810454, 0.48709002, -0.1005926, -0.8686632, 0.586415, -1.2495812, -0.7643656, -0.68434024, -0.7724881, 0.63774216, 0.112701096, 0.16721958, -0.29518417, 0.45881933, 0.8573643, -1.7639232, -0.63196325, 0.95373714, -0.5619074, 0.606984, -0.15557534, -1.6993482, -0.8573552, 1.3924379, 0.51608145, -1.3294408, 0.532528, 0.8734937, 1.7338526, -0.011964105, 0.48335817, -0.24785271, 1.128668, -0.16891515, 0.016160054, 0.28567138, -1.2819612, -0.17886847, 0.5604455, 0.49816912, 0.90629625, -0.40558454, -0.4192217, 1.69736, 0.34986213, -0.19592145, -0.30252075, 0.9996085, 0.43142572, 0.07316919, -0.32872915, 0.6059922, -1.1421006, 0.22639567, -0.16283897, 0.4589034, 1.9750935, 0.6548317, -1.4581263, -1.4186535, -0.13914928, 0.99020255, 0.6389109, 0.9762535, -0.49029112, -0.35169256, -0.46286225, -0.64549595, -0.7713071, 2.4949808, -1.1112702, 0.8484882, ...]  \n",
       "18                     [-0.49607027, -0.690554, 0.6185354, -1.442882, -0.34116307, -1.7232248, -0.19098023, 0.26878148, -0.48514175, 2.1447816, -0.7865671, -0.13062587, 1.3308651, 0.247601, -0.5001781, -0.5343214, 1.9870756, -0.2628854, 0.051113136, -0.42974448, -1.4285041, -1.973109, 0.039002616, 0.7245802, -0.14066249, -1.1589358, 0.06745326, -0.8644577, 0.43496746, 0.58233607, -0.02547621, -1.0269933, 0.6539929, -1.3573103, -0.9298213, -0.78707385, -0.91435516, 0.6179774, 0.14359894, 0.32555535, -0.14699376, 0.48305336, 1.1526597, -1.839464, -0.65254176, 1.1368651, -0.5704218, 0.60334057, -0.22315532, -1.6976825, -0.99117744, 1.6353915, 0.63541216, -1.376421, 0.5451223, 0.97630405, 1.9222083, -0.030226476, 0.540478, -0.30726013, 1.1637582, -0.34717262, -0.007700789, 0.28561896, -1.5301754, -0.27513233, 0.54914904, 0.41716817, 1.2375047, -0.55938655, -0.51204354, 1.6577142, 0.4744419, -0.19681184, -0.3670063, 1.1062274, 0.5512801, 0.11487609, -0.42652878, 0.5367073, -1.1614757, 0.23669276, -0.059109498, 0.32553464, 2.216614, 0.785397, -1.6711545, -1.7095609, -0.2776031, 1.1324849, 0.7680737, 0.91525775, -0.4439851, -0.5228352, -0.4934107, -0.9663756, -0.6901447, 2.6560888, -1.0097995, 0.8524692, ...]  \n",
       "19                            [-0.47131738, -0.7012577, 0.6056286, -1.4273918, -0.3581931, -1.7133329, -0.1788712, 0.26339066, -0.49546233, 2.1415415, -0.7825334, -0.14791396, 1.2893906, 0.25442803, -0.5084201, -0.5574881, 1.9703653, -0.26497808, 0.04476493, -0.45774776, -1.3988445, -1.961179, 0.03196422, 0.73435885, -0.112862885, -1.1606612, 0.07687284, -0.86535656, 0.43861213, 0.5640232, -0.028610745, -1.0386167, 0.6702222, -1.3933394, -0.917321, -0.75921285, -0.8843001, 0.63493097, 0.14319786, 0.319656, -0.1477395, 0.4642123, 1.1507072, -1.8525182, -0.62318647, 1.1324302, -0.5671258, 0.61673284, -0.23611149, -1.6907961, -0.98711586, 1.6303294, 0.6144314, -1.3546402, 0.52171886, 0.9825121, 1.9100969, -0.02424818, 0.5462827, -0.32208037, 1.1699505, -0.34923002, 0.00355453, 0.280378, -1.5324671, -0.2803442, 0.5524248, 0.4433748, 1.2261553, -0.5534924, -0.5010124, 1.637487, 0.4459259, -0.18886809, -0.3823368, 1.111552, 0.5592958, 0.10926235, -0.39547887, 0.53767294, -1.1819634, 0.23341784, -0.059765674, 0.33503556, 2.1960082, 0.7980825, -1.6478615, -1.689157, -0.28477848, 1.1374447, 0.7472003, 0.93312544, -0.4862287, -0.5002068, -0.46642303, -0.9490001, -0.68877417, 2.6223307, -1.0127604, 0.872705, ...]  "
      ]
     },
     "execution_count": 21,
     "metadata": {},
     "output_type": "execute_result"
    }
   ],
   "source": [
    "pd.set_option('display.max_colwidth', None)\n",
    "df[['content','embeddings']].head(20)"
   ]
  },
  {
   "cell_type": "code",
   "execution_count": null,
   "metadata": {},
   "outputs": [],
   "source": []
  }
 ],
 "metadata": {
  "kernelspec": {
   "display_name": "Python 3",
   "language": "python",
   "name": "python3"
  },
  "language_info": {
   "codemirror_mode": {
    "name": "ipython",
    "version": 3
   },
   "file_extension": ".py",
   "mimetype": "text/x-python",
   "name": "python",
   "nbconvert_exporter": "python",
   "pygments_lexer": "ipython3",
   "version": "3.10.12"
  }
 },
 "nbformat": 4,
 "nbformat_minor": 2
}
